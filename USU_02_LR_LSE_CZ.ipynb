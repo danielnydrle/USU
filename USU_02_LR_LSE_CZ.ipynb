{
 "cells": [
  {
   "cell_type": "markdown",
   "metadata": {},
   "source": [
    "# Lineární Regrese\n",
    "\n",
    "Úloha zaměřená na implementaci lineární regrese pomocí metody LSE.\n",
    "\n",
    "Data reprezentují výsledky zkoušky, konkrétně bodový zisk v závislosti na době studia."
   ]
  },
  {
   "cell_type": "markdown",
   "metadata": {},
   "source": [
    "Import knihoven:"
   ]
  },
  {
   "cell_type": "code",
   "execution_count": null,
   "metadata": {},
   "outputs": [],
   "source": [
    "import numpy as np\n",
    "import usu"
   ]
  },
  {
   "cell_type": "markdown",
   "metadata": {},
   "source": [
    "Načtení dat:"
   ]
  },
  {
   "cell_type": "code",
   "execution_count": null,
   "metadata": {},
   "outputs": [],
   "source": [
    "npzfile = np.load('data/data_02.npz')\n",
    "npzfile.files\n"
   ]
  },
  {
   "cell_type": "markdown",
   "metadata": {},
   "source": [
    "Přiřazení dat do nezávislé a závislé proměnné:"
   ]
  },
  {
   "cell_type": "code",
   "execution_count": null,
   "metadata": {},
   "outputs": [],
   "source": [
    "x = npzfile['x0']\n",
    "y = npzfile['x1']\n",
    "x.shape, y.shape # 100 radku a 1 sloupec\n"
   ]
  },
  {
   "cell_type": "markdown",
   "metadata": {},
   "source": [
    "Vykreslení dat:"
   ]
  },
  {
   "cell_type": "code",
   "execution_count": null,
   "metadata": {},
   "outputs": [],
   "source": [
    "usu.draw(x, y, \"Vysledky zkousky\", \"Doba studia [hod]\", \"Vysledek [body]\")"
   ]
  },
  {
   "cell_type": "markdown",
   "metadata": {},
   "source": [
    "## LSE (Least-Squares Estimation)\n",
    "\n",
    "\n",
    "### Odhad parametrů $\\theta$ :\n",
    "\n",
    "$$ \\theta = (\\tilde{X^T} \\tilde{X})^{-1} \\tilde{X^T} y $$  \n",
    "kde $\\tilde{X}$ je rozšířená matice dat $X$ (je rozšířená o jeden sloupec s hodnotami 1)\n",
    "\n",
    "#### Příklad matice $\\tilde{X}$ pro lineární regresi:\n",
    "\n",
    "$$\n",
    "    X = \n",
    "        \\begin{bmatrix}\n",
    "        1 \\\\\n",
    "        2 \\\\\n",
    "        3\\\\\n",
    "        \\end{bmatrix} \n",
    "    \\implies\n",
    "        \\tilde{X} = \n",
    "        \\begin{bmatrix}\n",
    "        1 & 1 \\\\\n",
    "        1 & 2 \\\\\n",
    "        1 & 3\\\\\n",
    "        \\end{bmatrix} \n",
    "$$\n",
    "\n",
    "\n",
    "#### Příklad matice  $\\tilde{X}$ pro polynomiální regresi:\n",
    "\n",
    "* Každá vyšší mocnina $X$ je v případě PR považována za **další nezávislou proměnnou**.\n",
    "\n",
    "$$\n",
    "    X = \n",
    "        \\begin{bmatrix}\n",
    "        1 & 1 \\\\\n",
    "        2 & 4 \\\\\n",
    "        3 & 9 \\\\\n",
    "        \\end{bmatrix} \n",
    "    \\implies\n",
    "    \\tilde{X} = \n",
    "        \\begin{bmatrix}\n",
    "        1 & 1 & 1 \\\\\n",
    "        1 & 2 & 4 \\\\\n",
    "        1 & 3 & 9 \\\\\n",
    "        \\end{bmatrix} \n",
    "$$\n",
    "\n",
    "\n",
    "### Odhad  $\\theta$ se zapojením regularizace:\n",
    "$$ \\theta = (\\tilde{X^T} \\tilde{X} + \\lambda I)^{-1} \\tilde{X^T} y $$  \n",
    "kde $\\lambda$ je koeficient regularizace (hyperparametr), $I$ je jednotková matice o rozměrech $n \\times n$ ($n$ je počet sloupců matice $\\tilde{X}$)"
   ]
  },
  {
   "cell_type": "markdown",
   "metadata": {},
   "source": [
    "Funkce pro odhad parametrů theta:"
   ]
  },
  {
   "cell_type": "code",
   "execution_count": null,
   "metadata": {},
   "outputs": [],
   "source": [
    "def computeThetaLSE(x, y, order=1, lmbd=0):\n",
    "    \"\"\"\n",
    "    x - vektor vstupnich hodnot (doba studia)\n",
    "    y - vektor vystupnich  hodnot (zisk bodu)\n",
    "    order - rad polynomu\n",
    "    lmbd - regularizacni parametr lambda\n",
    "    \n",
    "    \"\"\"\n",
    "    #################################################################\n",
    "    # ZDE DOPLNTE KOD\n",
    "    \n",
    "    ....\n",
    "    \n",
    "    \n",
    "    #################################################################\n",
    "    \n",
    "    return theta\n"
   ]
  },
  {
   "cell_type": "markdown",
   "metadata": {},
   "source": [
    "Linearní regrese bez regularizace (polynom 1. řádu):"
   ]
  },
  {
   "cell_type": "code",
   "execution_count": null,
   "metadata": {
    "scrolled": false
   },
   "outputs": [],
   "source": [
    "theta = computeThetaLSE(x, y)"
   ]
  },
  {
   "cell_type": "markdown",
   "metadata": {},
   "source": [
    "Vykreslení výsledků regrese:"
   ]
  },
  {
   "cell_type": "code",
   "execution_count": null,
   "metadata": {
    "scrolled": true
   },
   "outputs": [],
   "source": [
    "#vstupni paremetry do funkce usu.dra (theta, x a y) musi byt typu np.array nikoli matrix\n",
    "\n",
    "usu.draw(x, y, \"Vysledky zkousky\", \"Doba studia[hod]\", \"Vysledek [body]\", theta)"
   ]
  },
  {
   "cell_type": "markdown",
   "metadata": {},
   "source": [
    "Určete předpokládaný zisk bodů v případě přípravy v délce 4 hodin:"
   ]
  },
  {
   "cell_type": "code",
   "execution_count": null,
   "metadata": {},
   "outputs": [],
   "source": [
    "#################################################################\n",
    "# ZDE DOPLNIT\n",
    "\n",
    "valueX = ...\n",
    "valueY = ...\n",
    "usu.draw(x, y, \"Vysledky zkousky\", \"Doba studia[hod]\", \"Vysledek [body]\", theta, valueX, valueY)\n",
    "#################################################################\n"
   ]
  },
  {
   "cell_type": "markdown",
   "metadata": {},
   "source": [
    "Určete předpokládanou dobu studia v případě zisku 12 bodů:"
   ]
  },
  {
   "cell_type": "code",
   "execution_count": null,
   "metadata": {},
   "outputs": [],
   "source": [
    "#################################################################\n",
    "# ZDE DOPLNIT\n",
    "\n",
    "valueY = ...\n",
    "valueX = ...\n",
    "\n",
    "#################################################################\n",
    "\n",
    "usu.draw(x, y, \"Vysledky zkousky\", \"Doba studia[hod]\", \"Vysledek [body]\", theta, valueX, valueY)\n"
   ]
  },
  {
   "cell_type": "markdown",
   "metadata": {},
   "source": [
    "### Polynomiální regrese"
   ]
  },
  {
   "cell_type": "markdown",
   "metadata": {},
   "source": [
    "Určete předpokládaný zisk bodů v případě přípravy v délce 4 hodin, řádu polynomu 2 a 𝜆 1:"
   ]
  },
  {
   "cell_type": "code",
   "execution_count": null,
   "metadata": {},
   "outputs": [],
   "source": [
    "order = 2\n",
    "lmbd = 1\n",
    "theta = computeThetaLSE(x, y, order, lmbd)\n",
    "\n",
    "#################################################################\n",
    "# ZDE DOPLNIT\n",
    "\n",
    "valueX = ...\n",
    "valueY = ...\n",
    "# Nejvhodnejsi rad polynomu a proc: ...\n",
    "\n",
    "#################################################################\n",
    "\n",
    "usu.draw(x, y, \"Vysledky zkousky\", \"Doba studia[hod]\", \"Vysledek [body]\", theta, valueX, valueY)\n"
   ]
  },
  {
   "cell_type": "markdown",
   "metadata": {},
   "source": [
    "### Exponenciální regrese\n",
    "\n",
    "Reší se jako lineární regrese pro data s hodnotami $[x,\\log{(y)}]$"
   ]
  },
  {
   "cell_type": "code",
   "execution_count": null,
   "metadata": {},
   "outputs": [],
   "source": [
    "npzfile = np.load('data/data_02_exp.npz')\n",
    "npzfile.files"
   ]
  },
  {
   "cell_type": "code",
   "execution_count": null,
   "metadata": {},
   "outputs": [],
   "source": [
    "x_exp = npzfile['x0']\n",
    "y_exp = npzfile['x1']\n",
    "usu.draw(x_exp, y_exp, \"Vysledky zkousky\", \"Doba studia [hod]\", \"Vysledek [body]\")\n"
   ]
  },
  {
   "cell_type": "code",
   "execution_count": null,
   "metadata": {},
   "outputs": [],
   "source": [
    "#################################################################\n",
    "# ZDE DOPLNIT\n",
    "\n",
    "theta = ...\n",
    "usu.draw(x_exp, np.log(y_exp), \"Vysledky zkousky\", \"Doba studia[hod]\", \"Vysledek [body]\", theta)\n",
    "\n",
    "#################################################################\n"
   ]
  },
  {
   "cell_type": "markdown",
   "metadata": {},
   "source": [
    "Určete předpokládaný zisk bodů v případě přípravy v délce 4 hodin:"
   ]
  },
  {
   "cell_type": "code",
   "execution_count": null,
   "metadata": {},
   "outputs": [],
   "source": [
    "#################################################################\n",
    "# ZDE DOPLNIT\n",
    "\n",
    "valueX = ...\n",
    "valueY = ...\n",
    "#usu.draw(x, y, \"Vysledky zkousky\", \"Doba studia[hod]\", \"Vysledek [body]\", theta, valueX, valueY)\n",
    "\n",
    "#################################################################\n"
   ]
  }
 ],
 "metadata": {
  "celltoolbar": "Raw Cell Format",
  "kernelspec": {
   "display_name": "Python 3 (ipykernel)",
   "language": "python",
   "name": "python3"
  },
  "language_info": {
   "codemirror_mode": {
    "name": "ipython",
    "version": 3
   },
   "file_extension": ".py",
   "mimetype": "text/x-python",
   "name": "python",
   "nbconvert_exporter": "python",
   "pygments_lexer": "ipython3",
   "version": "3.9.7"
  }
 },
 "nbformat": 4,
 "nbformat_minor": 4
}
