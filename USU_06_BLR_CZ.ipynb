{
 "cells": [
  {
   "cell_type": "markdown",
   "metadata": {},
   "source": [
    "# Logistická regrese\n",
    "\n",
    "Úloha zaměřená na implementaci logistické regrese metodou SGD.\n",
    "\n",
    "V případě klasifikace požaduje výstup systému ve smyslu rozhodnutí o příslušnosti k jedné ze dvou definovaných tříd. Přiřadíme datům z jedné třídy požadovanou výstupní hodnotu +1 a datům z druhé třídy 0 (příp. -1)\n",
    "\n",
    "**Nechceme aproximovat body, ale separovat třídy!**\n"
   ]
  },
  {
   "cell_type": "markdown",
   "metadata": {},
   "source": [
    "## Binární lineární klasifikátor pomocí logistické regrese\n",
    "Umí klasifikovat jen třídy separovatelné lineárně (přimkou).\n",
    "\n",
    "### Data\n",
    "\n",
    "Data reprezentují výsledky zkoušky A a B a rozhodnutí o přijetí studenta na VŠ (křížek – neúspěch; hvezdička – úspěch). "
   ]
  },
  {
   "cell_type": "code",
   "execution_count": 1,
   "metadata": {},
   "outputs": [],
   "source": [
    "import numpy as np\n",
    "import usu\n"
   ]
  },
  {
   "cell_type": "code",
   "execution_count": 2,
   "metadata": {},
   "outputs": [
    {
     "data": {
      "text/plain": [
       "['data', 'ref']"
      ]
     },
     "execution_count": 2,
     "metadata": {},
     "output_type": "execute_result"
    }
   ],
   "source": [
    "npzfile = np.load('data/data_06_lr.npz')\n",
    "npzfile.files\n"
   ]
  },
  {
   "cell_type": "code",
   "execution_count": 3,
   "metadata": {},
   "outputs": [
    {
     "data": {
      "text/plain": [
       "((100, 2), (100, 1))"
      ]
     },
     "execution_count": 3,
     "metadata": {},
     "output_type": "execute_result"
    }
   ],
   "source": [
    "data = npzfile['data']\n",
    "ref = npzfile['ref']\n",
    "data.shape, ref.shape\n"
   ]
  },
  {
   "cell_type": "code",
   "execution_count": 4,
   "metadata": {},
   "outputs": [
    {
     "data": {
      "image/png": "[encoded data removed]",
      "text/plain": [
       "<Figure size 900x540 with 1 Axes>"
      ]
     },
     "metadata": {
      "needs_background": "light"
     },
     "output_type": "display_data"
    }
   ],
   "source": [
    "usu.drawSoftmax(data, ref)\n"
   ]
  },
  {
   "cell_type": "markdown",
   "metadata": {},
   "source": [
    "### Opakování z matematiky \n",
    "\n",
    "- Obecný tvar rovnice přimky v prostoru o souřadnicích $x_0$ ... $x_n$ má tvar:\n",
    "    $$ w_0 x_0 + w_1 x_1 + ... + w_n x_n + b = \\sum_{i=0}^{n} w_i x_i + b = w^T x + b = x^T w + b = 0 $$\n",
    "\n",
    "kde $w$ je normalový vektor (kolmý na směr přímky), \n",
    "\n",
    "$b$ je bias,  souvisí s posunem přímky od počátku,\n",
    "\n",
    "$w^T x$ je skalární součin vektorů $w$ a $x$\n",
    "\n",
    "- Bias $b$ taky můžeme označit jako $w_{n+1}$, pak platí:\n",
    "$$ w_0 x_0 + w_1 x_1 + ... + w_n x_n + w_{n+1} = \\sum_{i=0}^{n} w_i \\tilde{x_i} = w^T \\tilde{x} = \\tilde{x}^T w = 0 $$\n",
    "\n",
    "kde $\\tilde{x}$ je $x$ rozšířená o jeden sloupec s hodnotami 1, např. pro 2D:\n",
    "\n",
    "$$\n",
    "    x = \n",
    "        \\begin{bmatrix}\n",
    "        x_0 & x_1 \\\\\n",
    "        \\end{bmatrix} \n",
    "    \\implies\n",
    "        \\tilde{x} = \n",
    "        \\begin{bmatrix}\n",
    "        x_0 & x_1 & 1 \\\\\n",
    "        \\end{bmatrix} \n",
    "$$\n",
    "\n",
    "- Poloha bodu vůči přímce ve 2D:\n",
    "Orientovaná vzdálenost $d$ bodu $x$ od přímky s parametry $w$:\n",
    "$$ d = \\frac{w_0 x_0 + w_1 x_1 + b}{ \\sqrt{w_0^2 + w_1^2}} $$\n",
    "\n",
    "Bod $x$ leží ve vzdálenosti $d$:\n",
    "- ve směru vektoru $w$ (nad přímkou): $d > 0$, tedy $w^T x + b > 0$\n",
    "- proti směru vektoru $w$ (pod přímkou): $d < 0$, tedy $w^T x + b < 0$\n",
    "- přímo na přímce: $d = 0$, tedy $w^T x + b = 0$\n",
    "\n",
    "\n",
    "\n",
    "### Sigmoida\n",
    "$$ sigmoid(u) = \\sigma (u) = \\frac{e^u}{1+e^u} = \\frac{1}{1+e^{-u}} $$\n",
    "\n",
    "kde $u = w^T \\tilde{x}$\n",
    "\n",
    "\n",
    "Vlastnosti:\n",
    "- definiční obor: ($-\\infty$, $+\\infty$)\n",
    "- obor hodnot: (0,1)\n",
    "- $ \\sigma (u) > 0.5 $ pro $u>0$, $ \\sigma (u) < 0.5 $ pro $u<0$\n",
    "\n",
    "\n",
    "- Pokud je hodnota na výstupu sigmoidy $\\geq$ 0.5, přiřadíme bod ke třídě 1.\n",
    "- Pokud je hodnota na výstupu sigmoidy < 0.5, přiřadíme bod ke třídě 0.\n",
    "\n",
    "\n",
    "### Výpočet $\\theta$\n",
    "\n",
    "#### Pomocí sumy:\n",
    "\n",
    "$$ \\theta_{t+1} = \\theta_{t} - \\alpha \\sum_{i=0}^{N} {x_i} (\\sigma(x_i^T \\theta_t) - y_i) $$  \n",
    "kde $\\alpha$ je velikost kroku (learning rate), $y_i \\in {0,1}$\n",
    "\n",
    "\n",
    "#### Pomocí  matice:\n",
    "Maticová implementace je řádově výpočetně efektivnější bez použití cyklu for.\n",
    "\n",
    "$$ \\theta_{t+1} = \\theta_{t} - \\alpha X (\\sigma(X^T \\theta_t) - y) $$  \n",
    "matice $X$ obsahuje v káždém sloupci jeden rozšířený vektor $x_i$\n",
    "\n",
    "\n",
    "#### Výpočet $\\theta$ s funkcionalitou pro regularizaci:\n",
    "$$ \\theta_{t+1} = \\theta_{t}(1 - \\alpha \\lambda) - \\alpha \\sum_{i=0}^{N} {x_i} (\\sigma(x_i^T \\theta_t) - y_i) $$  \n",
    "\n",
    "nebo\n",
    "$$ \\theta_{t+1} = \\theta_{t} (1 - \\alpha \\lambda) - \\alpha X (\\sigma(X^T \\theta_t) - y) $$  \n",
    "\n",
    "\n",
    "\n",
    "#### Postup:\n",
    "1. Parametr $\\theta$ (resp. váhy $w$ a bias $b$) se inicializuje na malé náhodné hodnoty nebo na nuly\n",
    "2. Na vstup se přivedou všechna trénovací data a na výstupu se tím pádem objeví posloupnost nul a jedniček (obsahuje chyby)\n",
    "3. Na základě chyb se upraví hodnoty vah\n",
    "4. Kroky 2. a 3. se postupně opakují, dokud dostatečně klesá chybovost klasifikátoru (nebo podle počtu iterací)\n"
   ]
  },
  {
   "cell_type": "code",
   "execution_count": 5,
   "metadata": {},
   "outputs": [
    {
     "ename": "TypeError",
     "evalue": "ufunc 'isfinite' not supported for the input types, and the inputs could not be safely coerced to any supported types according to the casting rule ''safe''",
     "output_type": "error",
     "traceback": [
      "\u001b[1;31m---------------------------------------------------------------------------\u001b[0m",
      "\u001b[1;31mTypeError\u001b[0m                                 Traceback (most recent call last)",
      "Input \u001b[1;32mIn [5]\u001b[0m, in \u001b[0;36m<module>\u001b[1;34m\u001b[0m\n\u001b[0;32m      2\u001b[0m     \u001b[38;5;124;03m\"\"\"\u001b[39;00m\n\u001b[0;32m      3\u001b[0m \u001b[38;5;124;03m    vstupem muze byt skalar, vektor, nebo matice \u001b[39;00m\n\u001b[0;32m      4\u001b[0m \u001b[38;5;124;03m    \"\"\"\u001b[39;00m\n\u001b[0;32m      6\u001b[0m     \u001b[38;5;66;03m#################################################################\u001b[39;00m\n\u001b[0;32m      7\u001b[0m     \u001b[38;5;66;03m# ZDE DOPLNIT\u001b[39;00m\n\u001b[0;32m      8\u001b[0m \n\u001b[0;32m      9\u001b[0m     \n\u001b[0;32m     10\u001b[0m     \u001b[38;5;66;03m#################################################################\u001b[39;00m\n\u001b[1;32m---> 12\u001b[0m \u001b[43musu\u001b[49m\u001b[38;5;241;43m.\u001b[39;49m\u001b[43mcheckSigmoid\u001b[49m\u001b[43m(\u001b[49m\u001b[43msigmoid\u001b[49m\u001b[43m)\u001b[49m\n",
      "File \u001b[1;32md:\\OneDrive\\vyuka\\USU\\usu.repo\\usu.py:87\u001b[0m, in \u001b[0;36mcheckSigmoid\u001b[1;34m(sigmoid)\u001b[0m\n\u001b[0;32m     85\u001b[0m output \u001b[38;5;241m=\u001b[39m m(inp)\n\u001b[0;32m     86\u001b[0m output2 \u001b[38;5;241m=\u001b[39m sigmoid(inp)\n\u001b[1;32m---> 87\u001b[0m \u001b[38;5;28;01mreturn\u001b[39;00m \u001b[43mnp\u001b[49m\u001b[38;5;241;43m.\u001b[39;49m\u001b[43mallclose\u001b[49m\u001b[43m(\u001b[49m\u001b[43moutput2\u001b[49m\u001b[43m,\u001b[49m\u001b[43mnp\u001b[49m\u001b[38;5;241;43m.\u001b[39;49m\u001b[43marray\u001b[49m\u001b[43m(\u001b[49m\u001b[43moutput\u001b[49m\u001b[43m)\u001b[49m\u001b[43m)\u001b[49m\n",
      "File \u001b[1;32m<__array_function__ internals>:180\u001b[0m, in \u001b[0;36mallclose\u001b[1;34m(*args, **kwargs)\u001b[0m\n",
      "File \u001b[1;32m~\\miniconda3\\envs\\usu\\lib\\site-packages\\numpy\\core\\numeric.py:2251\u001b[0m, in \u001b[0;36mallclose\u001b[1;34m(a, b, rtol, atol, equal_nan)\u001b[0m\n\u001b[0;32m   2180\u001b[0m \u001b[38;5;129m@array_function_dispatch\u001b[39m(_allclose_dispatcher)\n\u001b[0;32m   2181\u001b[0m \u001b[38;5;28;01mdef\u001b[39;00m \u001b[38;5;21mallclose\u001b[39m(a, b, rtol\u001b[38;5;241m=\u001b[39m\u001b[38;5;241m1.e-5\u001b[39m, atol\u001b[38;5;241m=\u001b[39m\u001b[38;5;241m1.e-8\u001b[39m, equal_nan\u001b[38;5;241m=\u001b[39m\u001b[38;5;28;01mFalse\u001b[39;00m):\n\u001b[0;32m   2182\u001b[0m     \u001b[38;5;124;03m\"\"\"\u001b[39;00m\n\u001b[0;32m   2183\u001b[0m \u001b[38;5;124;03m    Returns True if two arrays are element-wise equal within a tolerance.\u001b[39;00m\n\u001b[0;32m   2184\u001b[0m \n\u001b[1;32m   (...)\u001b[0m\n\u001b[0;32m   2249\u001b[0m \n\u001b[0;32m   2250\u001b[0m \u001b[38;5;124;03m    \"\"\"\u001b[39;00m\n\u001b[1;32m-> 2251\u001b[0m     res \u001b[38;5;241m=\u001b[39m \u001b[38;5;28mall\u001b[39m(\u001b[43misclose\u001b[49m\u001b[43m(\u001b[49m\u001b[43ma\u001b[49m\u001b[43m,\u001b[49m\u001b[43m \u001b[49m\u001b[43mb\u001b[49m\u001b[43m,\u001b[49m\u001b[43m \u001b[49m\u001b[43mrtol\u001b[49m\u001b[38;5;241;43m=\u001b[39;49m\u001b[43mrtol\u001b[49m\u001b[43m,\u001b[49m\u001b[43m \u001b[49m\u001b[43matol\u001b[49m\u001b[38;5;241;43m=\u001b[39;49m\u001b[43matol\u001b[49m\u001b[43m,\u001b[49m\u001b[43m \u001b[49m\u001b[43mequal_nan\u001b[49m\u001b[38;5;241;43m=\u001b[39;49m\u001b[43mequal_nan\u001b[49m\u001b[43m)\u001b[49m)\n\u001b[0;32m   2252\u001b[0m     \u001b[38;5;28;01mreturn\u001b[39;00m \u001b[38;5;28mbool\u001b[39m(res)\n",
      "File \u001b[1;32m<__array_function__ internals>:180\u001b[0m, in \u001b[0;36misclose\u001b[1;34m(*args, **kwargs)\u001b[0m\n",
      "File \u001b[1;32m~\\miniconda3\\envs\\usu\\lib\\site-packages\\numpy\\core\\numeric.py:2358\u001b[0m, in \u001b[0;36misclose\u001b[1;34m(a, b, rtol, atol, equal_nan)\u001b[0m\n\u001b[0;32m   2355\u001b[0m     dt \u001b[38;5;241m=\u001b[39m multiarray\u001b[38;5;241m.\u001b[39mresult_type(y, \u001b[38;5;241m1.\u001b[39m)\n\u001b[0;32m   2356\u001b[0m     y \u001b[38;5;241m=\u001b[39m asanyarray(y, dtype\u001b[38;5;241m=\u001b[39mdt)\n\u001b[1;32m-> 2358\u001b[0m xfin \u001b[38;5;241m=\u001b[39m \u001b[43misfinite\u001b[49m\u001b[43m(\u001b[49m\u001b[43mx\u001b[49m\u001b[43m)\u001b[49m\n\u001b[0;32m   2359\u001b[0m yfin \u001b[38;5;241m=\u001b[39m isfinite(y)\n\u001b[0;32m   2360\u001b[0m \u001b[38;5;28;01mif\u001b[39;00m \u001b[38;5;28mall\u001b[39m(xfin) \u001b[38;5;129;01mand\u001b[39;00m \u001b[38;5;28mall\u001b[39m(yfin):\n",
      "\u001b[1;31mTypeError\u001b[0m: ufunc 'isfinite' not supported for the input types, and the inputs could not be safely coerced to any supported types according to the casting rule ''safe''"
     ]
    }
   ],
   "source": [
    "def sigmoid(z):\n",
    "    \"\"\"\n",
    "    vstupem muze byt skalar, vektor, nebo matice \n",
    "    \"\"\"\n",
    "    \n",
    "    #################################################################\n",
    "    # ZDE DOPLNIT\n",
    "\n",
    "    \n",
    "    #################################################################\n",
    "\n",
    "usu.checkSigmoid(sigmoid) #kontrola vystupu, output musi byt True"
   ]
  },
  {
   "cell_type": "code",
   "execution_count": null,
   "metadata": {},
   "outputs": [],
   "source": [
    "def thetaSGD(data, classes, alpha=0.001, iterations=10000, lmbd=0):\n",
    "    \"\"\"\n",
    "    alpha = learning rate\n",
    "    \"\"\"\n",
    "    #################################################################\n",
    "    # ZDE DOPLNIT\n",
    "    \n",
    "    # pridani prvniho sloupce\n",
    "    data = \n",
    "    \n",
    "    ...\n",
    "    \n",
    "    for i in range(iterations):\n",
    "    ...\n",
    "        \n",
    "    #################################################################    \n",
    "    return theta\n"
   ]
  },
  {
   "cell_type": "code",
   "execution_count": null,
   "metadata": {},
   "outputs": [],
   "source": [
    "theta = thetaSGD(data,ref)\n",
    "\n",
    "theta"
   ]
  },
  {
   "cell_type": "raw",
   "metadata": {},
   "source": [
    "Pro kontrolu:\n",
    "array([[-15.32914513],\n",
    "       [  1.27729209],\n",
    "       [  1.21940235]])"
   ]
  },
  {
   "cell_type": "code",
   "execution_count": null,
   "metadata": {},
   "outputs": [],
   "source": [
    "usu.drawSoftmax(data, ref, theta)\n"
   ]
  },
  {
   "cell_type": "code",
   "execution_count": null,
   "metadata": {},
   "outputs": [],
   "source": [
    "def predict(x, theta):\n",
    "    #vrací hodnotu y (0 nebo 1) pro vstup theta a X \n",
    "       \n",
    "    #################################################################\n",
    "    # ZDE DOPLNIT\n",
    "    \n",
    "    \n",
    "    #################################################################\n",
    "\n",
    "    return y\n"
   ]
  },
  {
   "cell_type": "markdown",
   "metadata": {},
   "source": [
    "Rozhodněte o přijetí v případě zisku 6 a 4 bodů a nastavení parametrů: alpha = 0.001,lambda = 0.2, počet iterací = 10000:"
   ]
  },
  {
   "cell_type": "code",
   "execution_count": null,
   "metadata": {},
   "outputs": [],
   "source": [
    "#################################################################\n",
    "# ZDE DOPLNIT\n",
    "\n",
    "y =\n",
    "\n",
    "#################################################################\n"
   ]
  },
  {
   "cell_type": "raw",
   "metadata": {},
   "source": [
    "Pro kontrolu:\n",
    "y = 0"
   ]
  },
  {
   "cell_type": "code",
   "execution_count": null,
   "metadata": {},
   "outputs": [],
   "source": []
  }
 ],
 "metadata": {
  "kernelspec": {
   "display_name": "Python 3 (ipykernel)",
   "language": "python",
   "name": "python3"
  },
  "language_info": {
   "codemirror_mode": {
    "name": "ipython",
    "version": 3
   },
   "file_extension": ".py",
   "mimetype": "text/x-python",
   "name": "python",
   "nbconvert_exporter": "python",
   "pygments_lexer": "ipython3",
   "version": "3.9.7"
  }
 },
 "nbformat": 4,
 "nbformat_minor": 4
}
