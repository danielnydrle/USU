{
 "cells": [
  {
   "cell_type": "markdown",
   "metadata": {},
   "source": [
    "# Transformace příznaků\n",
    "Úloha zaměřená na implementaci metod PCA a LDA pro transformaci příznaků. \n",
    "\n",
    "Výchozí motivace\n",
    "- Cílem je provést dekorelaci příznaků a vybrat pouze ty nejvýznamnější\n",
    "\n",
    "Chceme\n",
    "- Snížit zátěž (výpočetní, časovou) vlastního klasifikačního procesu.\n",
    "- Zvýšit úspěšnost klasifikace"
   ]
  },
  {
   "cell_type": "markdown",
   "metadata": {},
   "source": [
    "## Data"
   ]
  },
  {
   "cell_type": "code",
   "execution_count": 2,
   "metadata": {},
   "outputs": [
    {
     "data": {
      "text/plain": [
       "['testData', 'testRef', 'trainData', 'trainRef']"
      ]
     },
     "execution_count": 2,
     "metadata": {},
     "output_type": "execute_result"
    }
   ],
   "source": [
    "import numpy as np\n",
    "import usu\n",
    "\n",
    "npzfile = np.load('data/data_12.npz')\n",
    "npzfile.files\n"
   ]
  },
  {
   "cell_type": "code",
   "execution_count": 3,
   "metadata": {},
   "outputs": [
    {
     "data": {
      "text/plain": [
       "((1050, 5), (1050, 1), (850, 5), (850, 1))"
      ]
     },
     "execution_count": 3,
     "metadata": {},
     "output_type": "execute_result"
    }
   ],
   "source": [
    "testData = npzfile['testData']\n",
    "testRef = npzfile['testRef']\n",
    "\n",
    "trainData = npzfile['trainData']\n",
    "trainRef = npzfile['trainRef']\n",
    "\n",
    "trainData.shape,trainRef.shape, testData.shape, testRef.shape"
   ]
  },
  {
   "cell_type": "markdown",
   "metadata": {},
   "source": [
    "### Výpočet úspěšnosti\n",
    "$$ accuracy = \\frac{\\text{počet správně klasifikovaných objektů}}{\\text{počet všech klasifikovaných  objektů}} $$"
   ]
  },
  {
   "cell_type": "code",
   "execution_count": 4,
   "metadata": {},
   "outputs": [],
   "source": [
    "def accuracy(testRef, predRef):\n",
    "    \"\"\"\n",
    "    vraci uspesnost v procentech\n",
    "    \"\"\"\n",
    "    return (predRef==testRef).mean() * 100\n"
   ]
  },
  {
   "cell_type": "markdown",
   "metadata": {},
   "source": [
    "### Vzdálenostní funkce\n",
    "V dané uloze implemetujeme jenom euklidovskou vzdálenost\n",
    "\n",
    "#### Euklidovská vzdálenost (L2)\n",
    "$$ d(x,z) = \\sqrt{\\sum_{i=0}^{Dim}{(x_i - z_i)^2}} $$\n",
    "\n",
    "Při implementaci jde vynechat operaci druhé odmocniny, protože druhá odmocnina je monotónní rostoucí funkce. To znamená, že se mění jenom absolutní hodnoty vzdálenosti, ale pořadí se zachovává:\n",
    "$$ d(x,z) = \\sum_{i=0}^{Dim}{(x_i - z_i)^2} $$"
   ]
  },
  {
   "cell_type": "code",
   "execution_count": 5,
   "metadata": {},
   "outputs": [
    {
     "data": {
      "text/plain": [
       "array([[38.54881076],\n",
       "       [54.30823974],\n",
       "       [56.90800423],\n",
       "       ...,\n",
       "       [39.14515371],\n",
       "       [20.25885791],\n",
       "       [17.23315459]])"
      ]
     },
     "execution_count": 5,
     "metadata": {},
     "output_type": "execute_result"
    }
   ],
   "source": [
    "def euclidian_distance (testItem, trainData):\n",
    "    \"\"\"\n",
    "    vypocet vzdalenosti jendoho testovaciho vzorku ke vsem trenovacim datum\n",
    "    \"\"\"\n",
    "    distances = ...\n",
    "    \n",
    "    return distances\n",
    "\n",
    "euclidian_distance(testData[0],trainData)"
   ]
  },
  {
   "cell_type": "raw",
   "metadata": {},
   "source": [
    "Pro kontrolu:\n",
    "array([[38.54881076],\n",
    "       [54.30823974],\n",
    "       [56.90800423],\n",
    "       ...,\n",
    "       [39.14515371],\n",
    "       [20.25885791],\n",
    "       [17.23315459]])"
   ]
  },
  {
   "cell_type": "code",
   "execution_count": 6,
   "metadata": {},
   "outputs": [],
   "source": [
    "def getPrediction(trainData, trainRef, testData):\n",
    "    \n",
    "        \n",
    "    #pomoci funkce euclidian_distance\n",
    "    \n",
    "    nTestElements = np.size(testData,0)\n",
    "    nClasses = np.size(np.unique(trainRef),0) \n",
    "    predRef = np.zeros([nTestElements,1])\n",
    "    \n",
    "    #pomoci etalonu\n",
    "    \n",
    "    ...\n",
    "    \n",
    "    return predRef\n"
   ]
  },
  {
   "cell_type": "code",
   "execution_count": 7,
   "metadata": {},
   "outputs": [
    {
     "name": "stdout",
     "output_type": "stream",
     "text": [
      "acc : 93.06\n"
     ]
    }
   ],
   "source": [
    "predRef = getPrediction(trainData, trainRef,testData)\n",
    "print(f\"acc : {accuracy(testRef,predRef):.2f}\")\n"
   ]
  },
  {
   "cell_type": "raw",
   "metadata": {},
   "source": [
    "Pro kontrolu:\n",
    "acc : 93.06"
   ]
  },
  {
   "cell_type": "markdown",
   "metadata": {},
   "source": [
    "## Metody transformace příznaků\n",
    "### Transformace na základě dekorelace (a následná redukce): PCA\n",
    "- Z dat $X$ určíme kovariační matici $\\Sigma_x$\n",
    "- Vypočteme její vlastní vektory $e$ a sestavíme z nich matici $E$\n",
    "- Pak transformovaná data:\n",
    "\n",
    "$$X_{tr} = X (E_{0:f})^T$$\n",
    "kde f je počet příznaků\n",
    "- **Kovariační matice transformovaných dat bude diagonální**\n",
    "- **Data v novém souřadném systému budou dekorelovaná**\n",
    "\n",
    "\n",
    "### Transformace s ohledem na co největší diskriminativnost: LDA\n",
    "Vypočteme matici vlastních vektorů $E$ z matice určené součinem $ \\Sigma_{bc} \\Sigma_{wc}^{-1} $\n",
    "\n",
    "kde \n",
    "- kovarianční matice spočítaná ze středních hodnot tříd: $$\\Sigma_{bc} = \\frac{1}{N} \\sum_{class=0}^{C} N_{class} (\\mu_{class} - \\mu)^T (\\mu_{class} - \\mu)$$ \n",
    "- průměrná kovarianční matice tříd: $$\\Sigma_{wc} = \\frac{1}{N} \\sum_{class=0}^{C}{N_{class} \\Sigma_{class}}$$ \n",
    "\n",
    "\n",
    "kde N je počet prvků a C je počet tříd\n",
    "\n",
    "- Pak transformovaná data:\n",
    "\n",
    "$$X_{tr} = X (E_{0:f})^T$$"
   ]
  },
  {
   "cell_type": "code",
   "execution_count": 8,
   "metadata": {},
   "outputs": [],
   "source": [
    "class transform:\n",
    "    def __init__ (self, trainData, trainRef, testData, testRef):\n",
    "        \"\"\"\n",
    "        \"\"\"\n",
    "        self.trainData = trainData\n",
    "        self.testData = testData\n",
    "        \n",
    "        self.trainRef = trainRef\n",
    "        self.testRef = testRef\n",
    "    \n",
    "    def pca(self, data, nFeautures=1):\n",
    "        \"\"\"\n",
    "        transformuje data pca transformacni matici\n",
    "        \"\"\"\n",
    "        ...\n",
    "        \n",
    "        return ...\n",
    "    \n",
    "    \n",
    "    def lda(self, data, nFeautures=1):    \n",
    "        \"\"\"\n",
    "        transformuje data lda transformacni matici\n",
    "        \"\"\"\n",
    "        ...\n",
    "        \n",
    "        return ...\n"
   ]
  },
  {
   "cell_type": "code",
   "execution_count": 9,
   "metadata": {},
   "outputs": [],
   "source": [
    "transformation = transform(trainData, trainRef, testData, testRef) \n"
   ]
  },
  {
   "cell_type": "code",
   "execution_count": 10,
   "metadata": {},
   "outputs": [
    {
     "name": "stdout",
     "output_type": "stream",
     "text": [
      "priznaky: 1 -> acc : 70.94 %\n",
      "priznaky: 2 -> acc : 84.24 %\n",
      "priznaky: 3 -> acc : 87.29 %\n",
      "priznaky: 4 -> acc : 90.94 %\n",
      "priznaky: 5 -> acc : 93.06 %\n"
     ]
    }
   ],
   "source": [
    "#pca\n",
    "for dim in range(1,np.size(trainData,1)+1):\n",
    "    trainDataT = transformation.pca(trainData, dim)\n",
    "    testDataT = transformation.pca(testData, dim)\n",
    "    \n",
    "    predRef = getPrediction(trainDataT,trainRef,testDataT)\n",
    "    print(f\"priznaky: {dim} -> acc : {accuracy(testRef,predRef):.2f} %\")"
   ]
  },
  {
   "cell_type": "raw",
   "metadata": {},
   "source": [
    "Pro kontrolu:\n",
    "priznaky: 1 -> acc : 70.94 %\n",
    "priznaky: 2 -> acc : 84.24 %\n",
    "priznaky: 3 -> acc : 87.29 %\n",
    "priznaky: 4 -> acc : 90.94 %\n",
    "priznaky: 5 -> acc : 93.06 %"
   ]
  },
  {
   "cell_type": "code",
   "execution_count": 11,
   "metadata": {},
   "outputs": [
    {
     "name": "stdout",
     "output_type": "stream",
     "text": [
      "priznaky: 1 -> acc : 58.00 %\n",
      "priznaky: 2 -> acc : 84.35 %\n",
      "priznaky: 3 -> acc : 88.82 %\n",
      "priznaky: 4 -> acc : 92.94 %\n",
      "priznaky: 5 -> acc : 93.06 %\n"
     ]
    }
   ],
   "source": [
    "#lda\n",
    "for dim in range(1,np.size(trainData,1)+1):\n",
    "    trainDataT = transformation.lda(trainData, dim)\n",
    "    testDataT = transformation.lda(testData, dim)\n",
    "    \n",
    "    predRef = getPrediction(trainDataT,trainRef,testDataT)\n",
    "    print(f\"priznaky: {dim} -> acc : {accuracy(testRef,predRef):.2f} %\")\n",
    "  "
   ]
  },
  {
   "cell_type": "raw",
   "metadata": {},
   "source": [
    "Pro kontrolu:\n",
    "priznaky: 1 -> acc : 58.00 %\n",
    "priznaky: 2 -> acc : 84.35 %\n",
    "priznaky: 3 -> acc : 88.82 %\n",
    "priznaky: 4 -> acc : 92.94 %\n",
    "priznaky: 5 -> acc : 93.06 %"
   ]
  },
  {
   "cell_type": "code",
   "execution_count": 12,
   "metadata": {},
   "outputs": [],
   "source": [
    "#Závěr:\n",
    "#Kdy použít kterou metodu?\n"
   ]
  }
 ],
 "metadata": {
  "kernelspec": {
   "display_name": "Python 3 (ipykernel)",
   "language": "python",
   "name": "python3"
  },
  "language_info": {
   "codemirror_mode": {
    "name": "ipython",
    "version": 3
   },
   "file_extension": ".py",
   "mimetype": "text/x-python",
   "name": "python",
   "nbconvert_exporter": "python",
   "pygments_lexer": "ipython3",
   "version": "3.9.7"
  }
 },
 "nbformat": 4,
 "nbformat_minor": 4
}
