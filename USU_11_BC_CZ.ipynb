{
 "cells": [
  {
   "cell_type": "markdown",
   "metadata": {},
   "source": [
    "# Pravděpodobnostní klasifikace (Bayesův klasifikátor)\n",
    "\n",
    "Úloha zaměřená na implementaci základních pravděpodobnostních metod pro klasifikaci.\n"
   ]
  },
  {
   "cell_type": "markdown",
   "metadata": {},
   "source": [
    "## Data\n",
    "Rozdělení dat uvnitř tříd odpovídá normálnímu rozdělení\n"
   ]
  },
  {
   "cell_type": "code",
   "execution_count": 2,
   "metadata": {},
   "outputs": [
    {
     "data": {
      "text/plain": [
       "['testData', 'testRef', 'trainData', 'trainRef']"
      ]
     },
     "execution_count": 2,
     "metadata": {},
     "output_type": "execute_result"
    }
   ],
   "source": [
    "import usu\n",
    "import numpy as np\n",
    "\n",
    "npzfile = np.load('data/data_11.npz')\n",
    "npzfile.files\n"
   ]
  },
  {
   "cell_type": "code",
   "execution_count": 3,
   "metadata": {},
   "outputs": [
    {
     "data": {
      "text/plain": [
       "((1900, 2), (1900, 1), (100, 2), (100, 1))"
      ]
     },
     "execution_count": 3,
     "metadata": {},
     "output_type": "execute_result"
    }
   ],
   "source": [
    "testData = npzfile['testData']\n",
    "testRef = npzfile['testRef']\n",
    "\n",
    "trainData = npzfile['trainData']\n",
    "trainRef = npzfile['trainRef']\n",
    "\n",
    "nClasses = len(np.unique(trainRef)) \n",
    "\n",
    "trainData.shape,trainRef.shape, testData.shape, testRef.shape\n"
   ]
  },
  {
   "cell_type": "markdown",
   "metadata": {},
   "source": [
    "### Výpočet úspěšnosti\n",
    "$$ accuracy = \\frac{\\text{počet správně klasifikovaných objektů}}{\\text{počet všech klasifikovaných  objektů}} $$"
   ]
  },
  {
   "cell_type": "markdown",
   "metadata": {},
   "source": [
    "Apriorní pravděpodobnost třídy:\n",
    "\n",
    "$$ P_{ap}(class) = \\frac{\\text{počet prvků třídy}}{\\text{počet všech prvků všech tříd}} $$\n",
    "\n"
   ]
  },
  {
   "cell_type": "markdown",
   "metadata": {},
   "source": [
    "Hustota pravděpodobnosti Gaussova rozdělení pro jednorozměrný příznakový vektor:\n",
    "\n",
    "$$ f(x) = \\frac{1}{\\sqrt{2 \\pi \\sigma^2}} \\exp{-\\frac{(x-\\mu)^2}{2 \\sigma^2}} $$\n",
    "\n",
    "kde $\\mu$ je střední hodnota a $\\sigma^2$ je rozptyl\n",
    "\n",
    "Po logoritmizaci dostaneme:\n",
    "$$ L(x) = -\\frac{1}{2} \\log(2 \\pi \\sigma^2) -\\frac{(x-\\mu)^2}{2 \\sigma^2} $$\n",
    "\n",
    "Pro soubor N vzorků dat:\n",
    "\n",
    "$$ L(X) = \\sum_{i=0}^{N}{ -\\frac{1}{2} \\log(2 \\pi \\sigma^2)} -\\frac{1}{2}\\sum_{i=0}^{N}{\\frac{(x_{i}-\\mu)^2}{\\sigma^2} } $$\n",
    "\n",
    "\n",
    "\n",
    "Celkově:\n",
    "\n",
    "$$ L(class, X) = -\\frac{1}{2} \\sum_{i=0}^{N}{  \\log(2 \\pi \\sigma_{class}^2)} -\\sum_{i=0}^{N}{\\frac{(x_{i}-\\mu_{class})^2}{2 \\sigma_{class}^2} } + \\log P_{ap}(class)$$\n",
    "\n",
    "kde $ Z = -\\frac{1}{2} \\sum_{i=0}^{N}{ \\log(2 \\pi \\sigma_{class}^2)} + \\log P(class) = -\\frac{N}{2} \\log(2 \\pi \\sigma_{class}^2) + \\log P(class) $ je pak pro každou třídu konstanta a je možné si je předpočítat. \n",
    "\n",
    "\n",
    "\n",
    "Výpočet pro vícerozměrný příznakový vektor a plnou i diagonální kovariační matici viz. přednášky ...."
   ]
  },
  {
   "cell_type": "raw",
   "metadata": {},
   "source": [
    "Pro vypočet průmeru, variance a kovariační matice pro každou třídu použijte funkce z numpy.\n",
    "\n",
    "Pro každou třídy si předpočítejte všechny potřebné konstanty.\n",
    "\n",
    "Věrohodnost počítejte v logaritmické míře\n",
    "\n",
    "Výsledky a mezivýsledky pro kontrolu:\n",
    "\n",
    "Kovariační matice:\n",
    "\n",
    "[array([[ 4.30778694,  7.21162461],\n",
    "        [ 7.21162461, 19.65484658]]),\n",
    " array([[ 5.78607359,  1.15116801],\n",
    "        [ 1.15116801, 77.56999794]])]\n",
    "        \n",
    "Skóre při použití diagonální kovariační matice ... 92 %\n",
    "\n",
    "Skóre s plnou kovariační maticí ... 96 %"
   ]
  },
  {
   "cell_type": "code",
   "execution_count": 4,
   "metadata": {},
   "outputs": [],
   "source": [
    "def accuracy(testRef, predRef):\n",
    "    return (predRef==testRef).mean() * 100\n"
   ]
  }
 ],
 "metadata": {
  "kernelspec": {
   "display_name": "Python 3 (ipykernel)",
   "language": "python",
   "name": "python3"
  },
  "language_info": {
   "codemirror_mode": {
    "name": "ipython",
    "version": 3
   },
   "file_extension": ".py",
   "mimetype": "text/x-python",
   "name": "python",
   "nbconvert_exporter": "python",
   "pygments_lexer": "ipython3",
   "version": "3.9.7"
  }
 },
 "nbformat": 4,
 "nbformat_minor": 4
}
